{
 "cells": [
  {
   "cell_type": "code",
   "execution_count": 12,
   "metadata": {},
   "outputs": [],
   "source": [
    "class AssemblyLines:\n",
    "    timeStation = [[7,9,3,4,8,4], [8,5,6,4,5,7]]\n",
    "    timeBelt = [[2,2,3,1,3,4,3], [4,2,1,2,2,1,2]]\n",
    "    intCount = 0\n",
    "    def Scheduling(self, idxLine, idxStation):\n",
    "        '''\n",
    "        idxLine : This indicates which Line is it.\n",
    "        idxStation : This indicates the number of stations.\n",
    "        '''\n",
    "        print(\"Line, Station :\", idxLine, idxStation, \"recursion calls :\", self.intCount)\n",
    "        self.intCount = self.intCount + 1\n",
    "        \n",
    "        # Escape routine\n",
    "        if idxStation == 0:\n",
    "            if idxLine == 1:\n",
    "                return self.timeBelt[0][0] + self.timeStation[0][0]\n",
    "            elif idxLine == 2:\n",
    "                return self.timeBelt[1][0] + self.timeStation[1][0]\n",
    "        \n",
    "        # Recursive call\n",
    "        '''\n",
    "        costLine1 : When it doesn't go across Lines.\n",
    "        costLine1 : When it goes across Lines. \n",
    "        '''\n",
    "        if idxLine == 1:\n",
    "            costLine1 = self.Scheduling(1, idxStation-1) + self.timeStation[0][idxStation]\n",
    "            costLine2 = self.Scheduling(1, idxStation-1) + self.timeStation[0][idxStation] + self.timeBelt[1][idxStation]\n",
    "        elif idxLine == 2:\n",
    "            costLine1 = self.Scheduling(2, idxStation-1) + self.timeStation[1][idxStation]\n",
    "            costLine2 = self.Scheduling(2, idxStation-1) + self.timeStation[1][idxStation] + self.timeBelt[0][idxStation]\n",
    "        \n",
    "        # Compare which one takes less time.\n",
    "        if costLine1 > costLine2 :\n",
    "            return costLine2\n",
    "        else:\n",
    "            return costLine1\n",
    "        \n",
    "    def startScheduling(self):\n",
    "        numStation = len(self.timeStation[0])\n",
    "        costLine1 = self.Scheduling(1, numStation - 1) + self.timeBelt[0][numStation]\n",
    "        costLine2 = self.Scheduling(2, numStation - 1) + self.timeBelt[1][numStation]\n",
    "        if costLine1 > costLine2 :\n",
    "            return costLine2\n",
    "        else:\n",
    "            return costLine1   "
   ]
  },
  {
   "cell_type": "code",
   "execution_count": 13,
   "metadata": {},
   "outputs": [],
   "source": [
    "lines = AssemblyLines()"
   ]
  },
  {
   "cell_type": "code",
   "execution_count": 14,
   "metadata": {},
   "outputs": [
    {
     "name": "stdout",
     "output_type": "stream",
     "text": [
      "Line, Station : 1 5 recursion calls : 0\n",
      "Line, Station : 1 4 recursion calls : 1\n",
      "Line, Station : 1 3 recursion calls : 2\n",
      "Line, Station : 1 2 recursion calls : 3\n",
      "Line, Station : 1 1 recursion calls : 4\n",
      "Line, Station : 1 0 recursion calls : 5\n",
      "Line, Station : 1 0 recursion calls : 6\n",
      "Line, Station : 1 1 recursion calls : 7\n",
      "Line, Station : 1 0 recursion calls : 8\n",
      "Line, Station : 1 0 recursion calls : 9\n",
      "Line, Station : 1 2 recursion calls : 10\n",
      "Line, Station : 1 1 recursion calls : 11\n",
      "Line, Station : 1 0 recursion calls : 12\n",
      "Line, Station : 1 0 recursion calls : 13\n",
      "Line, Station : 1 1 recursion calls : 14\n",
      "Line, Station : 1 0 recursion calls : 15\n",
      "Line, Station : 1 0 recursion calls : 16\n",
      "Line, Station : 1 3 recursion calls : 17\n",
      "Line, Station : 1 2 recursion calls : 18\n",
      "Line, Station : 1 1 recursion calls : 19\n",
      "Line, Station : 1 0 recursion calls : 20\n",
      "Line, Station : 1 0 recursion calls : 21\n",
      "Line, Station : 1 1 recursion calls : 22\n",
      "Line, Station : 1 0 recursion calls : 23\n",
      "Line, Station : 1 0 recursion calls : 24\n",
      "Line, Station : 1 2 recursion calls : 25\n",
      "Line, Station : 1 1 recursion calls : 26\n",
      "Line, Station : 1 0 recursion calls : 27\n",
      "Line, Station : 1 0 recursion calls : 28\n",
      "Line, Station : 1 1 recursion calls : 29\n",
      "Line, Station : 1 0 recursion calls : 30\n",
      "Line, Station : 1 0 recursion calls : 31\n",
      "Line, Station : 1 4 recursion calls : 32\n",
      "Line, Station : 1 3 recursion calls : 33\n",
      "Line, Station : 1 2 recursion calls : 34\n",
      "Line, Station : 1 1 recursion calls : 35\n",
      "Line, Station : 1 0 recursion calls : 36\n",
      "Line, Station : 1 0 recursion calls : 37\n",
      "Line, Station : 1 1 recursion calls : 38\n",
      "Line, Station : 1 0 recursion calls : 39\n",
      "Line, Station : 1 0 recursion calls : 40\n",
      "Line, Station : 1 2 recursion calls : 41\n",
      "Line, Station : 1 1 recursion calls : 42\n",
      "Line, Station : 1 0 recursion calls : 43\n",
      "Line, Station : 1 0 recursion calls : 44\n",
      "Line, Station : 1 1 recursion calls : 45\n",
      "Line, Station : 1 0 recursion calls : 46\n",
      "Line, Station : 1 0 recursion calls : 47\n",
      "Line, Station : 1 3 recursion calls : 48\n",
      "Line, Station : 1 2 recursion calls : 49\n",
      "Line, Station : 1 1 recursion calls : 50\n",
      "Line, Station : 1 0 recursion calls : 51\n",
      "Line, Station : 1 0 recursion calls : 52\n",
      "Line, Station : 1 1 recursion calls : 53\n",
      "Line, Station : 1 0 recursion calls : 54\n",
      "Line, Station : 1 0 recursion calls : 55\n",
      "Line, Station : 1 2 recursion calls : 56\n",
      "Line, Station : 1 1 recursion calls : 57\n",
      "Line, Station : 1 0 recursion calls : 58\n",
      "Line, Station : 1 0 recursion calls : 59\n",
      "Line, Station : 1 1 recursion calls : 60\n",
      "Line, Station : 1 0 recursion calls : 61\n",
      "Line, Station : 1 0 recursion calls : 62\n",
      "Line, Station : 2 5 recursion calls : 63\n",
      "Line, Station : 2 4 recursion calls : 64\n",
      "Line, Station : 2 3 recursion calls : 65\n",
      "Line, Station : 2 2 recursion calls : 66\n",
      "Line, Station : 2 1 recursion calls : 67\n",
      "Line, Station : 2 0 recursion calls : 68\n",
      "Line, Station : 2 0 recursion calls : 69\n",
      "Line, Station : 2 1 recursion calls : 70\n",
      "Line, Station : 2 0 recursion calls : 71\n",
      "Line, Station : 2 0 recursion calls : 72\n",
      "Line, Station : 2 2 recursion calls : 73\n",
      "Line, Station : 2 1 recursion calls : 74\n",
      "Line, Station : 2 0 recursion calls : 75\n",
      "Line, Station : 2 0 recursion calls : 76\n",
      "Line, Station : 2 1 recursion calls : 77\n",
      "Line, Station : 2 0 recursion calls : 78\n",
      "Line, Station : 2 0 recursion calls : 79\n",
      "Line, Station : 2 3 recursion calls : 80\n",
      "Line, Station : 2 2 recursion calls : 81\n",
      "Line, Station : 2 1 recursion calls : 82\n",
      "Line, Station : 2 0 recursion calls : 83\n",
      "Line, Station : 2 0 recursion calls : 84\n",
      "Line, Station : 2 1 recursion calls : 85\n",
      "Line, Station : 2 0 recursion calls : 86\n",
      "Line, Station : 2 0 recursion calls : 87\n",
      "Line, Station : 2 2 recursion calls : 88\n",
      "Line, Station : 2 1 recursion calls : 89\n",
      "Line, Station : 2 0 recursion calls : 90\n",
      "Line, Station : 2 0 recursion calls : 91\n",
      "Line, Station : 2 1 recursion calls : 92\n",
      "Line, Station : 2 0 recursion calls : 93\n",
      "Line, Station : 2 0 recursion calls : 94\n",
      "Line, Station : 2 4 recursion calls : 95\n",
      "Line, Station : 2 3 recursion calls : 96\n",
      "Line, Station : 2 2 recursion calls : 97\n",
      "Line, Station : 2 1 recursion calls : 98\n",
      "Line, Station : 2 0 recursion calls : 99\n",
      "Line, Station : 2 0 recursion calls : 100\n",
      "Line, Station : 2 1 recursion calls : 101\n",
      "Line, Station : 2 0 recursion calls : 102\n",
      "Line, Station : 2 0 recursion calls : 103\n",
      "Line, Station : 2 2 recursion calls : 104\n",
      "Line, Station : 2 1 recursion calls : 105\n",
      "Line, Station : 2 0 recursion calls : 106\n",
      "Line, Station : 2 0 recursion calls : 107\n",
      "Line, Station : 2 1 recursion calls : 108\n",
      "Line, Station : 2 0 recursion calls : 109\n",
      "Line, Station : 2 0 recursion calls : 110\n",
      "Line, Station : 2 3 recursion calls : 111\n",
      "Line, Station : 2 2 recursion calls : 112\n",
      "Line, Station : 2 1 recursion calls : 113\n",
      "Line, Station : 2 0 recursion calls : 114\n",
      "Line, Station : 2 0 recursion calls : 115\n",
      "Line, Station : 2 1 recursion calls : 116\n",
      "Line, Station : 2 0 recursion calls : 117\n",
      "Line, Station : 2 0 recursion calls : 118\n",
      "Line, Station : 2 2 recursion calls : 119\n",
      "Line, Station : 2 1 recursion calls : 120\n",
      "Line, Station : 2 0 recursion calls : 121\n",
      "Line, Station : 2 0 recursion calls : 122\n",
      "Line, Station : 2 1 recursion calls : 123\n",
      "Line, Station : 2 0 recursion calls : 124\n",
      "Line, Station : 2 0 recursion calls : 125\n"
     ]
    }
   ],
   "source": [
    "time = lines.startScheduling()"
   ]
  },
  {
   "cell_type": "code",
   "execution_count": 39,
   "metadata": {},
   "outputs": [],
   "source": [
    "# 프로그램을 실행하는 입장에서 더 간단함\n",
    "# Bottom-up\n",
    "class AssemblyLines:\n",
    "    '''\n",
    "    timeScheduling : Travel time table\n",
    "    stationTracing : Retrace table\n",
    "    '''\n",
    "    timeStation = [[7,9,3,4,8,4], [8,5,6,4,5,7]]\n",
    "    timeBelt = [[2,2,3,1,3,4,3], [4,2,1,2,2,1,2]]\n",
    "    # Assign memoization tables\n",
    "    timeScheduling = [list(range(6)), list(range(6))]\n",
    "    stationTracing = [list(range(6)), list(range(6))]\n",
    "    def startSchedulingDP(self):\n",
    "        numStation = len(self.timeStation[0])\n",
    "        # Memoization tables의 초기값 설정\n",
    "        self.timeScheduling[0][0] = self.timeStation[0][0] + self.timeBelt[0][0]\n",
    "        self.timeScheduling[1][0] = self.timeStation[1][0] + self.timeBelt[1][0]\n",
    "        \n",
    "        for itr in range(1,numStation):\n",
    "            '''\n",
    "            어떤 Station에서 그 다음 Station으로 갈 때, 다른 Line에서 오는게 빠른지,\n",
    "            아니면 기존 Line에서 오는게 빠른지 비교 후, 더 빠른쪽을 더해줌.\n",
    "            '''  \n",
    "            if self.timeScheduling[0][itr-1] > self.timeScheduling[1][itr-1] + self.timeBelt[1][itr-1]:\n",
    "                self.timeScheduling[0][itr] = self.timeStation[1][itr] + self.timeBelt[1][itr] + self.timeScheduling[1][itr-1]\n",
    "                self.stationTracing[0][itr] = 1\n",
    "            else :\n",
    "                self.timeScheduling[0][itr] = self.timeStation[0][itr] + self.timeScheduling[0][itr-1]\n",
    "                self.stationTracing[0][itr] = 0\n",
    "                \n",
    "            if self.timeScheduling[1][itr-1] > self.timeScheduling[0][itr-1] + self.timeBelt[0][itr-1]:\n",
    "                self.timeScheduling[1][itr] = self.timeStation[1][itr] + self.timeBelt[0][itr] + self.timeScheduling[0][itr-1]\n",
    "                self.stationTracing[1][itr] = 0\n",
    "            else :\n",
    "                self.timeScheduling[0][itr] = self.timeStation[1][itr] + self.timeScheduling[1][itr-1]\n",
    "                self.stationTracing[1][itr] = 1\n",
    "        \n",
    "        costLine1 = self.timeScheduling[0][numStation-1] + self.timeBelt[0][numStation]\n",
    "        costLine2 = self.timeScheduling[1][numStation-1] + self.timeBelt[1][numStation]\n",
    "        \n",
    "        # 마지막 Retracing table element 출력을 위한 조건문\n",
    "        if costLine1 > costLine2 :\n",
    "            return costLine2, 1\n",
    "        else:\n",
    "            return costLine1, 0\n",
    "        \n",
    "    def printTracing(self, lineTracing):\n",
    "        numStation = len(self.timeStation[0])\n",
    "        print(\"Line :\", lineTracing, \"Station :\", numStation)\n",
    "        for itr in range(numStation-1, 0, -1):\n",
    "            lineTracing = self.stationTracing[lineTracing][itr]\n",
    "            print(\"Line :\", lineTracing, \"Station :\", itr)\n",
    "                "
   ]
  },
  {
   "cell_type": "code",
   "execution_count": 40,
   "metadata": {},
   "outputs": [],
   "source": [
    "lines = AssemblyLines()"
   ]
  },
  {
   "cell_type": "code",
   "execution_count": 41,
   "metadata": {},
   "outputs": [],
   "source": [
    "time, lineTracing = lines.startSchedulingDP()"
   ]
  },
  {
   "cell_type": "code",
   "execution_count": 42,
   "metadata": {},
   "outputs": [
    {
     "data": {
      "text/plain": [
       "1"
      ]
     },
     "execution_count": 42,
     "metadata": {},
     "output_type": "execute_result"
    }
   ],
   "source": [
    "lineTracing"
   ]
  },
  {
   "cell_type": "code",
   "execution_count": 43,
   "metadata": {},
   "outputs": [
    {
     "data": {
      "text/plain": [
       "[[0, 0, 0, 1, 1, 1], [0, 0, 1, 1, 1, 1]]"
      ]
     },
     "execution_count": 43,
     "metadata": {},
     "output_type": "execute_result"
    }
   ],
   "source": [
    "lines.stationTracing"
   ]
  },
  {
   "cell_type": "code",
   "execution_count": 44,
   "metadata": {},
   "outputs": [
    {
     "name": "stdout",
     "output_type": "stream",
     "text": [
      "Line : 1 Station : 6\n",
      "Line : 1 Station : 5\n",
      "Line : 1 Station : 4\n",
      "Line : 1 Station : 3\n",
      "Line : 1 Station : 2\n",
      "Line : 0 Station : 1\n"
     ]
    }
   ],
   "source": [
    "lines.printTracing(lineTracing)"
   ]
  },
  {
   "cell_type": "code",
   "execution_count": 49,
   "metadata": {},
   "outputs": [],
   "source": [
    "import random\n",
    "\n",
    "def performMergeSort(lstElementToSort):\n",
    "    # Escape routine\n",
    "    if len(lstElementToSort) == 1:\n",
    "        return lstElementToSort\n",
    "    \n",
    "    # Decomposition\n",
    "    lstSubElementToSort1 = []\n",
    "    lstSubElementToSort2 = []\n",
    "    for itr in range(len(lstElementToSort)):\n",
    "        if len(lstElementToSort)/2 > itr:\n",
    "            lstSubElementToSort1.append(lstElementToSort[itr])\n",
    "        else:\n",
    "            lstSubElementToSort2.append(lstElementToSort[itr])\n",
    "    \n",
    "    # Recursion, 여기서 List가 전부 쪼개진 형태가 됨\n",
    "    lstSubElementToSort1 = performMergeSort(lstSubElementToSort1)\n",
    "    lstSubElementToSort2 = performMergeSort(lstSubElementToSort2)\n",
    "    \n",
    "    idxCount1 = 0\n",
    "    idxCount2 = 0\n",
    "    for itr in range(len(lstElementToSort)):\n",
    "        # 한쪽에 있는 element가 다 lstElementToSort로 들어갔을때를 대비\n",
    "        if idxCount1 == len(lstSubElementToSort1):\n",
    "            lstElementToSort[itr] = lstSubElementToSort2[idxCount2]\n",
    "            idxCount2 += 1\n",
    "        elif idxCount2 == len(lstSubElementToSort2):\n",
    "            lstElementToSort[itr] = lstSubElementToSort1[idxCount1]\n",
    "            idxCount1 += 1\n",
    "        # 본격 값 비교 if statement\n",
    "        elif lstSubElementToSort1[idxCount1] > lstSubElementToSort2[idxCount2]:\n",
    "            lstElementToSort[itr] = lstSubElementToSort2[idxCount2]\n",
    "            idxCount2 += 1\n",
    "        else:\n",
    "            lstElementToSort[itr] = lstSubElementToSort1[idxCount1]\n",
    "            idxCount1 += 1\n",
    "    return lstElementToSort"
   ]
  },
  {
   "cell_type": "code",
   "execution_count": 50,
   "metadata": {},
   "outputs": [
    {
     "name": "stdout",
     "output_type": "stream",
     "text": [
      "[87, 25, 34, 69, 63, 5, 44, 82, 18, 18]\n"
     ]
    }
   ],
   "source": [
    "lstRandom = []\n",
    "for itr in range(0, 10):\n",
    "    lstRandom.append(random.randrange(0,100))\n",
    "print(lstRandom)"
   ]
  },
  {
   "cell_type": "code",
   "execution_count": 51,
   "metadata": {
    "scrolled": true
   },
   "outputs": [
    {
     "name": "stdout",
     "output_type": "stream",
     "text": [
      "[5, 18, 18, 25, 34, 44, 63, 69, 82, 87]\n"
     ]
    }
   ],
   "source": [
    "lstRandom2 = performMergeSort(lstRandom)\n",
    "print(lstRandom2)"
   ]
  },
  {
   "cell_type": "code",
   "execution_count": null,
   "metadata": {},
   "outputs": [],
   "source": []
  }
 ],
 "metadata": {
  "kernelspec": {
   "display_name": "Python 3",
   "language": "python",
   "name": "python3"
  },
  "language_info": {
   "codemirror_mode": {
    "name": "ipython",
    "version": 3
   },
   "file_extension": ".py",
   "mimetype": "text/x-python",
   "name": "python",
   "nbconvert_exporter": "python",
   "pygments_lexer": "ipython3",
   "version": "3.6.7"
  }
 },
 "nbformat": 4,
 "nbformat_minor": 4
}
