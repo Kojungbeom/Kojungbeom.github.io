{
 "cells": [
  {
   "cell_type": "code",
   "execution_count": 19,
   "metadata": {},
   "outputs": [],
   "source": [
    "class Node:\n",
    "    def __init__(self, data=None):\n",
    "        self.data = data\n",
    "        self.next = None"
   ]
  },
  {
   "cell_type": "code",
   "execution_count": 169,
   "metadata": {},
   "outputs": [],
   "source": [
    "class LinkedList:\n",
    "    def __init__(self):\n",
    "        self.head = Node()\n",
    "    def addFront(self, data):\n",
    "        newNode = Node(data)\n",
    "        curNode = self.head\n",
    "        newNode.next = curNode.next\n",
    "        curNode.next = newNode\n",
    "    def addEnd(self, data):\n",
    "        newNode = Node(data)\n",
    "        curNode = self.head\n",
    "        while curNode.next != None:\n",
    "            curNode = curNode.next\n",
    "        curNode.next = newNode\n",
    "        \n",
    "    def length(self):\n",
    "        curNode = self.head\n",
    "        count = 0\n",
    "        while curNode.next != None:\n",
    "            curNode = curNode.next\n",
    "            count += 1\n",
    "        return count\n",
    "    def addAtPosition(self, data, idx):\n",
    "        newNode = Node(data)\n",
    "        curNode = self.head\n",
    "        curIndex = 0\n",
    "        while curIndex != idx:\n",
    "            curIndex += 1\n",
    "            curNode = curNode.next\n",
    "    def search(self, data):\n",
    "        curNode = self.head.next\n",
    "        idx = 0\n",
    "        while curNode.data != data:\n",
    "            curNode = curNode.next\n",
    "            idx += 1\n",
    "        return idx\n",
    "    def printItem(self):\n",
    "        list = []\n",
    "        curNode = self.head\n",
    "        while curNode.next != None:\n",
    "            list.append(curNode.next.data)\n",
    "            curNode = curNode.next\n",
    "        return list\n",
    "    def deleteFront(self):\n",
    "        curNode = self.head\n",
    "        target = curNode.next\n",
    "        curNode.next = target.next\n",
    "    def deleteEnd(self):\n",
    "        curNode = self.head\n",
    "        while curNode.next.next != None:\n",
    "            curNode = curNode.next\n",
    "        curNode.next = None\n",
    "    def deletePosition(self, idx):\n",
    "        curIndex = 0\n",
    "        curNode = self.head\n",
    "        while True:\n",
    "            lastNode = curNode\n",
    "            curNode = curNode.next\n",
    "            if curIndex == idx:\n",
    "                lastNode.next = curNode.next\n",
    "                return\n",
    "            curIndex += 1\n",
    "    def getItem(self, idx):\n",
    "        curIndex = 0\n",
    "        curNode = self.head\n",
    "        while curIndex != idx:\n",
    "            curNode = cur.next\n",
    "            curIndex += 1\n",
    "        return curNode.next.data"
   ]
  },
  {
   "cell_type": "code",
   "execution_count": 170,
   "metadata": {},
   "outputs": [],
   "source": [
    "test = LinkedList()"
   ]
  },
  {
   "cell_type": "code",
   "execution_count": 171,
   "metadata": {},
   "outputs": [],
   "source": [
    "test.addEnd('a')\n",
    "test.addEnd('b')\n",
    "test.addEnd('c')"
   ]
  },
  {
   "cell_type": "code",
   "execution_count": 172,
   "metadata": {},
   "outputs": [
    {
     "data": {
      "text/plain": [
       "['a', 'b', 'c']"
      ]
     },
     "execution_count": 172,
     "metadata": {},
     "output_type": "execute_result"
    }
   ],
   "source": [
    "test.printItem()"
   ]
  },
  {
   "cell_type": "code",
   "execution_count": 173,
   "metadata": {},
   "outputs": [],
   "source": [
    "test.deletePosition(1)"
   ]
  },
  {
   "cell_type": "code",
   "execution_count": 174,
   "metadata": {},
   "outputs": [
    {
     "data": {
      "text/plain": [
       "['a', 'c']"
      ]
     },
     "execution_count": 174,
     "metadata": {},
     "output_type": "execute_result"
    }
   ],
   "source": [
    "test.printItem()"
   ]
  },
  {
   "cell_type": "code",
   "execution_count": 175,
   "metadata": {},
   "outputs": [
    {
     "data": {
      "text/plain": [
       "'a'"
      ]
     },
     "execution_count": 175,
     "metadata": {},
     "output_type": "execute_result"
    }
   ],
   "source": [
    "test.getItem(0)"
   ]
  },
  {
   "cell_type": "code",
   "execution_count": 176,
   "metadata": {},
   "outputs": [],
   "source": [
    "test = LinkedList()"
   ]
  },
  {
   "cell_type": "code",
   "execution_count": 177,
   "metadata": {},
   "outputs": [],
   "source": [
    "test.addFront('a')\n",
    "test.addFront('b')\n",
    "test.addFront('c')"
   ]
  },
  {
   "cell_type": "code",
   "execution_count": 178,
   "metadata": {},
   "outputs": [
    {
     "data": {
      "text/plain": [
       "['c', 'b', 'a']"
      ]
     },
     "execution_count": 178,
     "metadata": {},
     "output_type": "execute_result"
    }
   ],
   "source": [
    "test.printItem()"
   ]
  },
  {
   "cell_type": "code",
   "execution_count": 179,
   "metadata": {},
   "outputs": [
    {
     "data": {
      "text/plain": [
       "2"
      ]
     },
     "execution_count": 179,
     "metadata": {},
     "output_type": "execute_result"
    }
   ],
   "source": [
    "test.search('a')"
   ]
  },
  {
   "cell_type": "code",
   "execution_count": null,
   "metadata": {},
   "outputs": [],
   "source": []
  }
 ],
 "metadata": {
  "kernelspec": {
   "display_name": "Python 3",
   "language": "python",
   "name": "python3"
  },
  "language_info": {
   "codemirror_mode": {
    "name": "ipython",
    "version": 3
   },
   "file_extension": ".py",
   "mimetype": "text/x-python",
   "name": "python",
   "nbconvert_exporter": "python",
   "pygments_lexer": "ipython3",
   "version": "3.6.7"
  }
 },
 "nbformat": 4,
 "nbformat_minor": 4
}
